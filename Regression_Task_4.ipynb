{
  "nbformat": 4,
  "nbformat_minor": 0,
  "metadata": {
    "colab": {
      "provenance": []
    },
    "kernelspec": {
      "name": "python3",
      "display_name": "Python 3"
    },
    "language_info": {
      "name": "python"
    }
  },
  "cells": [
    {
      "cell_type": "markdown",
      "source": [
        "Step 1 : Import necessary libraries"
      ],
      "metadata": {
        "id": "Wc8QwZfmEFlp"
      }
    },
    {
      "cell_type": "code",
      "execution_count": null,
      "metadata": {
        "id": "u9TS4fKsCIse"
      },
      "outputs": [],
      "source": [
        "import pandas as pd\n",
        "import numpy as np\n",
        "import matplotlib.pyplot as plt\n",
        "import seaborn as sns\n",
        "from scipy import stats\n",
        "from sklearn.model_selection import train_test_split\n",
        "from sklearn.preprocessing import LabelEncoder\n",
        "from sklearn.linear_model import LinearRegression\n",
        "from sklearn.tree import DecisionTreeRegressor\n",
        "from sklearn.ensemble import RandomForestRegressor, GradientBoostingRegressor\n",
        "from sklearn.svm import SVR\n",
        "from sklearn.metrics import mean_squared_error, r2_score\n"
      ]
    },
    {
      "cell_type": "code",
      "source": [
        "Step 2 : Load the dataset"
      ],
      "metadata": {
        "id": "0t9XnSjTEJYF"
      },
      "execution_count": null,
      "outputs": []
    },
    {
      "cell_type": "code",
      "source": [
        "from google.colab import files\n",
        "upload =files.upload()"
      ],
      "metadata": {
        "colab": {
          "base_uri": "https://localhost:8080/",
          "height": 73
        },
        "id": "fg6rUIHnChCb",
        "outputId": "8888340d-5846-4171-8e68-6f6b7f7466fd"
      },
      "execution_count": null,
      "outputs": [
        {
          "output_type": "display_data",
          "data": {
            "text/plain": [
              "<IPython.core.display.HTML object>"
            ],
            "text/html": [
              "\n",
              "     <input type=\"file\" id=\"files-ecc365b6-2035-4e94-967a-3e4851d63120\" name=\"files[]\" multiple disabled\n",
              "        style=\"border:none\" />\n",
              "     <output id=\"result-ecc365b6-2035-4e94-967a-3e4851d63120\">\n",
              "      Upload widget is only available when the cell has been executed in the\n",
              "      current browser session. Please rerun this cell to enable.\n",
              "      </output>\n",
              "      <script>// Copyright 2017 Google LLC\n",
              "//\n",
              "// Licensed under the Apache License, Version 2.0 (the \"License\");\n",
              "// you may not use this file except in compliance with the License.\n",
              "// You may obtain a copy of the License at\n",
              "//\n",
              "//      http://www.apache.org/licenses/LICENSE-2.0\n",
              "//\n",
              "// Unless required by applicable law or agreed to in writing, software\n",
              "// distributed under the License is distributed on an \"AS IS\" BASIS,\n",
              "// WITHOUT WARRANTIES OR CONDITIONS OF ANY KIND, either express or implied.\n",
              "// See the License for the specific language governing permissions and\n",
              "// limitations under the License.\n",
              "\n",
              "/**\n",
              " * @fileoverview Helpers for google.colab Python module.\n",
              " */\n",
              "(function(scope) {\n",
              "function span(text, styleAttributes = {}) {\n",
              "  const element = document.createElement('span');\n",
              "  element.textContent = text;\n",
              "  for (const key of Object.keys(styleAttributes)) {\n",
              "    element.style[key] = styleAttributes[key];\n",
              "  }\n",
              "  return element;\n",
              "}\n",
              "\n",
              "// Max number of bytes which will be uploaded at a time.\n",
              "const MAX_PAYLOAD_SIZE = 100 * 1024;\n",
              "\n",
              "function _uploadFiles(inputId, outputId) {\n",
              "  const steps = uploadFilesStep(inputId, outputId);\n",
              "  const outputElement = document.getElementById(outputId);\n",
              "  // Cache steps on the outputElement to make it available for the next call\n",
              "  // to uploadFilesContinue from Python.\n",
              "  outputElement.steps = steps;\n",
              "\n",
              "  return _uploadFilesContinue(outputId);\n",
              "}\n",
              "\n",
              "// This is roughly an async generator (not supported in the browser yet),\n",
              "// where there are multiple asynchronous steps and the Python side is going\n",
              "// to poll for completion of each step.\n",
              "// This uses a Promise to block the python side on completion of each step,\n",
              "// then passes the result of the previous step as the input to the next step.\n",
              "function _uploadFilesContinue(outputId) {\n",
              "  const outputElement = document.getElementById(outputId);\n",
              "  const steps = outputElement.steps;\n",
              "\n",
              "  const next = steps.next(outputElement.lastPromiseValue);\n",
              "  return Promise.resolve(next.value.promise).then((value) => {\n",
              "    // Cache the last promise value to make it available to the next\n",
              "    // step of the generator.\n",
              "    outputElement.lastPromiseValue = value;\n",
              "    return next.value.response;\n",
              "  });\n",
              "}\n",
              "\n",
              "/**\n",
              " * Generator function which is called between each async step of the upload\n",
              " * process.\n",
              " * @param {string} inputId Element ID of the input file picker element.\n",
              " * @param {string} outputId Element ID of the output display.\n",
              " * @return {!Iterable<!Object>} Iterable of next steps.\n",
              " */\n",
              "function* uploadFilesStep(inputId, outputId) {\n",
              "  const inputElement = document.getElementById(inputId);\n",
              "  inputElement.disabled = false;\n",
              "\n",
              "  const outputElement = document.getElementById(outputId);\n",
              "  outputElement.innerHTML = '';\n",
              "\n",
              "  const pickedPromise = new Promise((resolve) => {\n",
              "    inputElement.addEventListener('change', (e) => {\n",
              "      resolve(e.target.files);\n",
              "    });\n",
              "  });\n",
              "\n",
              "  const cancel = document.createElement('button');\n",
              "  inputElement.parentElement.appendChild(cancel);\n",
              "  cancel.textContent = 'Cancel upload';\n",
              "  const cancelPromise = new Promise((resolve) => {\n",
              "    cancel.onclick = () => {\n",
              "      resolve(null);\n",
              "    };\n",
              "  });\n",
              "\n",
              "  // Wait for the user to pick the files.\n",
              "  const files = yield {\n",
              "    promise: Promise.race([pickedPromise, cancelPromise]),\n",
              "    response: {\n",
              "      action: 'starting',\n",
              "    }\n",
              "  };\n",
              "\n",
              "  cancel.remove();\n",
              "\n",
              "  // Disable the input element since further picks are not allowed.\n",
              "  inputElement.disabled = true;\n",
              "\n",
              "  if (!files) {\n",
              "    return {\n",
              "      response: {\n",
              "        action: 'complete',\n",
              "      }\n",
              "    };\n",
              "  }\n",
              "\n",
              "  for (const file of files) {\n",
              "    const li = document.createElement('li');\n",
              "    li.append(span(file.name, {fontWeight: 'bold'}));\n",
              "    li.append(span(\n",
              "        `(${file.type || 'n/a'}) - ${file.size} bytes, ` +\n",
              "        `last modified: ${\n",
              "            file.lastModifiedDate ? file.lastModifiedDate.toLocaleDateString() :\n",
              "                                    'n/a'} - `));\n",
              "    const percent = span('0% done');\n",
              "    li.appendChild(percent);\n",
              "\n",
              "    outputElement.appendChild(li);\n",
              "\n",
              "    const fileDataPromise = new Promise((resolve) => {\n",
              "      const reader = new FileReader();\n",
              "      reader.onload = (e) => {\n",
              "        resolve(e.target.result);\n",
              "      };\n",
              "      reader.readAsArrayBuffer(file);\n",
              "    });\n",
              "    // Wait for the data to be ready.\n",
              "    let fileData = yield {\n",
              "      promise: fileDataPromise,\n",
              "      response: {\n",
              "        action: 'continue',\n",
              "      }\n",
              "    };\n",
              "\n",
              "    // Use a chunked sending to avoid message size limits. See b/62115660.\n",
              "    let position = 0;\n",
              "    do {\n",
              "      const length = Math.min(fileData.byteLength - position, MAX_PAYLOAD_SIZE);\n",
              "      const chunk = new Uint8Array(fileData, position, length);\n",
              "      position += length;\n",
              "\n",
              "      const base64 = btoa(String.fromCharCode.apply(null, chunk));\n",
              "      yield {\n",
              "        response: {\n",
              "          action: 'append',\n",
              "          file: file.name,\n",
              "          data: base64,\n",
              "        },\n",
              "      };\n",
              "\n",
              "      let percentDone = fileData.byteLength === 0 ?\n",
              "          100 :\n",
              "          Math.round((position / fileData.byteLength) * 100);\n",
              "      percent.textContent = `${percentDone}% done`;\n",
              "\n",
              "    } while (position < fileData.byteLength);\n",
              "  }\n",
              "\n",
              "  // All done.\n",
              "  yield {\n",
              "    response: {\n",
              "      action: 'complete',\n",
              "    }\n",
              "  };\n",
              "}\n",
              "\n",
              "scope.google = scope.google || {};\n",
              "scope.google.colab = scope.google.colab || {};\n",
              "scope.google.colab._files = {\n",
              "  _uploadFiles,\n",
              "  _uploadFilesContinue,\n",
              "};\n",
              "})(self);\n",
              "</script> "
            ]
          },
          "metadata": {}
        },
        {
          "output_type": "stream",
          "name": "stdout",
          "text": [
            "Saving CarPrice_Assignment.csv to CarPrice_Assignment.csv\n"
          ]
        }
      ]
    },
    {
      "cell_type": "code",
      "source": [
        "df = pd.read_csv('CarPrice_Assignment.csv')"
      ],
      "metadata": {
        "id": "yNYRQ96aC2lN"
      },
      "execution_count": null,
      "outputs": []
    },
    {
      "cell_type": "markdown",
      "source": [
        "Step 3 : Check the data"
      ],
      "metadata": {
        "id": "tbaVcWxTEQ8P"
      }
    },
    {
      "cell_type": "code",
      "source": [
        "print(df.info())\n"
      ],
      "metadata": {
        "colab": {
          "base_uri": "https://localhost:8080/"
        },
        "id": "VZm7Y8EpDWQz",
        "outputId": "93607225-5ff7-426c-ebb9-dc95e7e04bb6"
      },
      "execution_count": null,
      "outputs": [
        {
          "output_type": "stream",
          "name": "stdout",
          "text": [
            "<class 'pandas.core.frame.DataFrame'>\n",
            "RangeIndex: 205 entries, 0 to 204\n",
            "Data columns (total 26 columns):\n",
            " #   Column            Non-Null Count  Dtype  \n",
            "---  ------            --------------  -----  \n",
            " 0   car_ID            205 non-null    int64  \n",
            " 1   symboling         205 non-null    int64  \n",
            " 2   CarName           205 non-null    object \n",
            " 3   fueltype          205 non-null    object \n",
            " 4   aspiration        205 non-null    object \n",
            " 5   doornumber        205 non-null    object \n",
            " 6   carbody           205 non-null    object \n",
            " 7   drivewheel        205 non-null    object \n",
            " 8   enginelocation    205 non-null    object \n",
            " 9   wheelbase         205 non-null    float64\n",
            " 10  carlength         205 non-null    float64\n",
            " 11  carwidth          205 non-null    float64\n",
            " 12  carheight         205 non-null    float64\n",
            " 13  curbweight        205 non-null    int64  \n",
            " 14  enginetype        205 non-null    object \n",
            " 15  cylindernumber    205 non-null    object \n",
            " 16  enginesize        205 non-null    int64  \n",
            " 17  fuelsystem        205 non-null    object \n",
            " 18  boreratio         205 non-null    float64\n",
            " 19  stroke            205 non-null    float64\n",
            " 20  compressionratio  205 non-null    float64\n",
            " 21  horsepower        205 non-null    int64  \n",
            " 22  peakrpm           205 non-null    int64  \n",
            " 23  citympg           205 non-null    int64  \n",
            " 24  highwaympg        205 non-null    int64  \n",
            " 25  price             205 non-null    float64\n",
            "dtypes: float64(8), int64(8), object(10)\n",
            "memory usage: 41.8+ KB\n",
            "None\n"
          ]
        }
      ]
    },
    {
      "cell_type": "code",
      "source": [
        "print(df.describe())"
      ],
      "metadata": {
        "colab": {
          "base_uri": "https://localhost:8080/"
        },
        "id": "6LC1KuSlDcKO",
        "outputId": "aa37dbc6-51ad-4bd2-e581-6c6539a29a9e"
      },
      "execution_count": null,
      "outputs": [
        {
          "output_type": "stream",
          "name": "stdout",
          "text": [
            "           car_ID   symboling   wheelbase   carlength    carwidth   carheight  \\\n",
            "count  205.000000  205.000000  205.000000  205.000000  205.000000  205.000000   \n",
            "mean   103.000000    0.834146   98.756585  174.049268   65.907805   53.724878   \n",
            "std     59.322565    1.245307    6.021776   12.337289    2.145204    2.443522   \n",
            "min      1.000000   -2.000000   86.600000  141.100000   60.300000   47.800000   \n",
            "25%     52.000000    0.000000   94.500000  166.300000   64.100000   52.000000   \n",
            "50%    103.000000    1.000000   97.000000  173.200000   65.500000   54.100000   \n",
            "75%    154.000000    2.000000  102.400000  183.100000   66.900000   55.500000   \n",
            "max    205.000000    3.000000  120.900000  208.100000   72.300000   59.800000   \n",
            "\n",
            "        curbweight  enginesize   boreratio      stroke  compressionratio  \\\n",
            "count   205.000000  205.000000  205.000000  205.000000        205.000000   \n",
            "mean   2555.565854  126.907317    3.329756    3.255415         10.142537   \n",
            "std     520.680204   41.642693    0.270844    0.313597          3.972040   \n",
            "min    1488.000000   61.000000    2.540000    2.070000          7.000000   \n",
            "25%    2145.000000   97.000000    3.150000    3.110000          8.600000   \n",
            "50%    2414.000000  120.000000    3.310000    3.290000          9.000000   \n",
            "75%    2935.000000  141.000000    3.580000    3.410000          9.400000   \n",
            "max    4066.000000  326.000000    3.940000    4.170000         23.000000   \n",
            "\n",
            "       horsepower      peakrpm     citympg  highwaympg         price  \n",
            "count  205.000000   205.000000  205.000000  205.000000    205.000000  \n",
            "mean   104.117073  5125.121951   25.219512   30.751220  13276.710571  \n",
            "std     39.544167   476.985643    6.542142    6.886443   7988.852332  \n",
            "min     48.000000  4150.000000   13.000000   16.000000   5118.000000  \n",
            "25%     70.000000  4800.000000   19.000000   25.000000   7788.000000  \n",
            "50%     95.000000  5200.000000   24.000000   30.000000  10295.000000  \n",
            "75%    116.000000  5500.000000   30.000000   34.000000  16503.000000  \n",
            "max    288.000000  6600.000000   49.000000   54.000000  45400.000000  \n"
          ]
        }
      ]
    },
    {
      "cell_type": "code",
      "source": [
        "print(df.columns)"
      ],
      "metadata": {
        "colab": {
          "base_uri": "https://localhost:8080/"
        },
        "id": "eVRAg3P8Di6K",
        "outputId": "a733d50e-d0a3-464a-f754-e6c409c373bf"
      },
      "execution_count": null,
      "outputs": [
        {
          "output_type": "stream",
          "name": "stdout",
          "text": [
            "Index(['car_ID', 'symboling', 'CarName', 'fueltype', 'aspiration',\n",
            "       'doornumber', 'carbody', 'drivewheel', 'enginelocation', 'wheelbase',\n",
            "       'carlength', 'carwidth', 'carheight', 'curbweight', 'enginetype',\n",
            "       'cylindernumber', 'enginesize', 'fuelsystem', 'boreratio', 'stroke',\n",
            "       'compressionratio', 'horsepower', 'peakrpm', 'citympg', 'highwaympg',\n",
            "       'price'],\n",
            "      dtype='object')\n"
          ]
        }
      ]
    },
    {
      "cell_type": "code",
      "source": [
        "print(df.nunique())"
      ],
      "metadata": {
        "colab": {
          "base_uri": "https://localhost:8080/"
        },
        "id": "ENzyCA5mDkIM",
        "outputId": "7fbb0992-ada1-4832-d208-46ad21148261"
      },
      "execution_count": null,
      "outputs": [
        {
          "output_type": "stream",
          "name": "stdout",
          "text": [
            "car_ID              205\n",
            "symboling             6\n",
            "CarName             147\n",
            "fueltype              2\n",
            "aspiration            2\n",
            "doornumber            2\n",
            "carbody               5\n",
            "drivewheel            3\n",
            "enginelocation        2\n",
            "wheelbase            53\n",
            "carlength            75\n",
            "carwidth             44\n",
            "carheight            49\n",
            "curbweight          171\n",
            "enginetype            7\n",
            "cylindernumber        7\n",
            "enginesize           44\n",
            "fuelsystem            8\n",
            "boreratio            38\n",
            "stroke               37\n",
            "compressionratio     32\n",
            "horsepower           59\n",
            "peakrpm              23\n",
            "citympg              29\n",
            "highwaympg           30\n",
            "price               189\n",
            "dtype: int64\n"
          ]
        }
      ]
    },
    {
      "cell_type": "code",
      "source": [
        "print(df.duplicated().sum())"
      ],
      "metadata": {
        "colab": {
          "base_uri": "https://localhost:8080/"
        },
        "id": "3gzNrgw7DnBU",
        "outputId": "bde55646-beb3-455f-ba84-e08a41a3ff13"
      },
      "execution_count": null,
      "outputs": [
        {
          "output_type": "stream",
          "name": "stdout",
          "text": [
            "0\n"
          ]
        }
      ]
    },
    {
      "cell_type": "code",
      "source": [
        "print(df.isnull().sum())"
      ],
      "metadata": {
        "colab": {
          "base_uri": "https://localhost:8080/"
        },
        "id": "PL67M90VDvAA",
        "outputId": "5a50aa38-382d-4a11-9b1d-7de78a9dc411"
      },
      "execution_count": null,
      "outputs": [
        {
          "output_type": "stream",
          "name": "stdout",
          "text": [
            "car_ID              0\n",
            "symboling           0\n",
            "CarName             0\n",
            "fueltype            0\n",
            "aspiration          0\n",
            "doornumber          0\n",
            "carbody             0\n",
            "drivewheel          0\n",
            "enginelocation      0\n",
            "wheelbase           0\n",
            "carlength           0\n",
            "carwidth            0\n",
            "carheight           0\n",
            "curbweight          0\n",
            "enginetype          0\n",
            "cylindernumber      0\n",
            "enginesize          0\n",
            "fuelsystem          0\n",
            "boreratio           0\n",
            "stroke              0\n",
            "compressionratio    0\n",
            "horsepower          0\n",
            "peakrpm             0\n",
            "citympg             0\n",
            "highwaympg          0\n",
            "price               0\n",
            "dtype: int64\n"
          ]
        }
      ]
    },
    {
      "cell_type": "markdown",
      "source": [
        "Step 4 : Data Preproccessing"
      ],
      "metadata": {
        "id": "TZtPzF4jEs_B"
      }
    },
    {
      "cell_type": "code",
      "source": [
        "df = df.drop(columns=['car_ID'])"
      ],
      "metadata": {
        "id": "del5mJcNDzxk"
      },
      "execution_count": null,
      "outputs": []
    },
    {
      "cell_type": "code",
      "source": [
        "df['company_name'] = df['CarName'].apply(lambda x: x.split()[0])"
      ],
      "metadata": {
        "id": "ykc6JoKmD6q-"
      },
      "execution_count": null,
      "outputs": []
    },
    {
      "cell_type": "code",
      "source": [
        "df['company_name'] = df['company_name'].replace({\n",
        "    'Toyta': 'Toyota',\n",
        "    'Ford': 'Ford', })"
      ],
      "metadata": {
        "id": "gr5ACbidIIJ3"
      },
      "execution_count": null,
      "outputs": []
    },
    {
      "cell_type": "markdown",
      "source": [
        "Step 5 : Label encoding"
      ],
      "metadata": {
        "id": "606_81nyIotX"
      }
    },
    {
      "cell_type": "code",
      "source": [
        "label_encoder = LabelEncoder()\n",
        "for column in df.select_dtypes(include=['object']).columns:\n",
        "    df[column] = label_encoder.fit_transform(df[column])"
      ],
      "metadata": {
        "id": "YLFSgNTQIimp"
      },
      "execution_count": null,
      "outputs": []
    },
    {
      "cell_type": "markdown",
      "source": [
        "Step 6 : Outliers detection and removal"
      ],
      "metadata": {
        "id": "pKCVe9GYI8ut"
      }
    },
    {
      "cell_type": "code",
      "source": [
        "df = df[(np.abs(stats.zscore(df.select_dtypes(include=[np.number]))) < 3).all(axis=1)]"
      ],
      "metadata": {
        "id": "fkfiNCp7IwiT"
      },
      "execution_count": null,
      "outputs": []
    },
    {
      "cell_type": "markdown",
      "source": [
        "Step 7 : Feature Selection"
      ],
      "metadata": {
        "id": "NSWUcQY5JNfd"
      }
    },
    {
      "cell_type": "code",
      "source": [
        "corr_matrix = df.corr()\n",
        "print(corr_matrix['price'].sort_values(ascending=False))"
      ],
      "metadata": {
        "colab": {
          "base_uri": "https://localhost:8080/"
        },
        "id": "L3ZRIxGlJZ5X",
        "outputId": "3b7ae835-80f9-4025-fefa-c3334ff5536f"
      },
      "execution_count": null,
      "outputs": [
        {
          "output_type": "stream",
          "name": "stdout",
          "text": [
            "price               1.000000\n",
            "curbweight          0.843535\n",
            "enginesize          0.817810\n",
            "horsepower          0.807691\n",
            "carwidth            0.788366\n",
            "carlength           0.749698\n",
            "wheelbase           0.712624\n",
            "fuelsystem          0.630889\n",
            "drivewheel          0.514262\n",
            "boreratio           0.490906\n",
            "carheight           0.257095\n",
            "aspiration          0.254595\n",
            "carbody             0.150727\n",
            "cylindernumber      0.133664\n",
            "stroke              0.062299\n",
            "peakrpm             0.015671\n",
            "enginetype         -0.017430\n",
            "company_name       -0.121287\n",
            "symboling          -0.126074\n",
            "CarName            -0.132787\n",
            "doornumber         -0.177057\n",
            "compressionratio   -0.301310\n",
            "highwaympg         -0.777664\n",
            "citympg            -0.779588\n",
            "fueltype                 NaN\n",
            "enginelocation           NaN\n",
            "Name: price, dtype: float64\n"
          ]
        }
      ]
    },
    {
      "cell_type": "markdown",
      "source": [
        "Step 8 : Remove multicolinearity"
      ],
      "metadata": {
        "id": "f4LCtGmcJgz2"
      }
    },
    {
      "cell_type": "code",
      "source": [
        "corr_matrix = df.corr().abs()\n",
        "upper = corr_matrix.where(np.triu(np.ones(corr_matrix.shape), k=1).astype(bool))\n",
        "to_drop = [column for column in upper.columns if any(upper[column] > 0.85)]\n",
        "df = df.drop(columns=to_drop)"
      ],
      "metadata": {
        "id": "S23we2ojJbUP"
      },
      "execution_count": null,
      "outputs": []
    },
    {
      "cell_type": "markdown",
      "source": [
        "Step 9 : Data splitting"
      ],
      "metadata": {
        "id": "tq_Jz2pkJng8"
      }
    },
    {
      "cell_type": "code",
      "source": [
        "X = df.drop(columns=['price'])\n",
        "y = df['price']\n",
        "\n",
        "X_train, X_test, y_train, y_test = train_test_split(X, y, test_size=0.2, random_state=42)"
      ],
      "metadata": {
        "id": "jrIjGELuJuCW"
      },
      "execution_count": null,
      "outputs": []
    },
    {
      "cell_type": "markdown",
      "source": [
        "Step 10 : Apply Algorithms"
      ],
      "metadata": {
        "id": "zVLXtYlIK5BP"
      }
    },
    {
      "cell_type": "markdown",
      "source": [
        "Linear Regression"
      ],
      "metadata": {
        "id": "wA1lTVHqLIwR"
      }
    },
    {
      "cell_type": "code",
      "source": [
        "linear_reg = LinearRegression()\n",
        "linear_reg.fit(X_train, y_train)\n",
        "y_pred = linear_reg.predict(X_test)\n",
        "print('Linear Regression RMSE:', np.sqrt(mean_squared_error(y_test, y_pred)))\n",
        "print('Linear Regression R2:', r2_score(y_test, y_pred))\n"
      ],
      "metadata": {
        "colab": {
          "base_uri": "https://localhost:8080/"
        },
        "id": "4dGtymbALHRL",
        "outputId": "d896cd57-65f0-4656-aa0c-46755e0c6cb0"
      },
      "execution_count": null,
      "outputs": [
        {
          "output_type": "stream",
          "name": "stdout",
          "text": [
            "Linear Regression RMSE: 2438.4713622646327\n",
            "Linear Regression R2: 0.7296995833457192\n"
          ]
        }
      ]
    },
    {
      "cell_type": "markdown",
      "source": [
        "Decision Tree Regressor"
      ],
      "metadata": {
        "id": "wGY3-n9TL6SB"
      }
    },
    {
      "cell_type": "code",
      "source": [
        "tree_reg = DecisionTreeRegressor()\n",
        "tree_reg.fit(X_train, y_train)\n",
        "y_pred = tree_reg.predict(X_test)\n",
        "print('Decision Tree RMSE:', np.sqrt(mean_squared_error(y_test, y_pred)))\n",
        "print('Decision Tree R2:', r2_score(y_test, y_pred))"
      ],
      "metadata": {
        "colab": {
          "base_uri": "https://localhost:8080/"
        },
        "id": "UJSILGw1L-d1",
        "outputId": "2ca689ba-d170-44dd-c84c-4044ee1c7ea1"
      },
      "execution_count": null,
      "outputs": [
        {
          "output_type": "stream",
          "name": "stdout",
          "text": [
            "Decision Tree RMSE: 4431.6908922061\n",
            "Decision Tree R2: 0.107207942448179\n"
          ]
        }
      ]
    },
    {
      "cell_type": "markdown",
      "source": [
        "Random Forest Regressor"
      ],
      "metadata": {
        "id": "IrsTOmUiMBgT"
      }
    },
    {
      "cell_type": "code",
      "source": [
        "forest_reg = RandomForestRegressor()\n",
        "forest_reg.fit(X_train, y_train)\n",
        "y_pred = forest_reg.predict(X_test)\n",
        "print('Random Forest RMSE:', np.sqrt(mean_squared_error(y_test, y_pred)))\n",
        "print('Random Forest R2:', r2_score(y_test, y_pred))"
      ],
      "metadata": {
        "colab": {
          "base_uri": "https://localhost:8080/"
        },
        "id": "AARIC1F_MDap",
        "outputId": "92d649da-fda0-4e83-a3bc-3e62727bd9e6"
      },
      "execution_count": null,
      "outputs": [
        {
          "output_type": "stream",
          "name": "stdout",
          "text": [
            "Random Forest RMSE: 2542.94056637014\n",
            "Random Forest R2: 0.7060429935925909\n"
          ]
        }
      ]
    },
    {
      "cell_type": "markdown",
      "source": [
        "Gradient Boosting Regressor"
      ],
      "metadata": {
        "id": "y4A4vPlAMG0T"
      }
    },
    {
      "cell_type": "code",
      "source": [
        "gb_reg = GradientBoostingRegressor()\n",
        "gb_reg.fit(X_train, y_train)\n",
        "y_pred = gb_reg.predict(X_test)\n",
        "print('Gradient Boosting RMSE:', np.sqrt(mean_squared_error(y_test, y_pred)))\n",
        "print('Gradient Boosting R2:', r2_score(y_test, y_pred))"
      ],
      "metadata": {
        "colab": {
          "base_uri": "https://localhost:8080/"
        },
        "id": "_kEHRNX0MKuX",
        "outputId": "d461506e-fb3f-42c4-9ce8-6bcb73064737"
      },
      "execution_count": null,
      "outputs": [
        {
          "output_type": "stream",
          "name": "stdout",
          "text": [
            "Gradient Boosting RMSE: 2443.7099522174735\n",
            "Gradient Boosting R2: 0.7285369582157568\n"
          ]
        }
      ]
    },
    {
      "cell_type": "markdown",
      "source": [
        "Support Vector Regressor"
      ],
      "metadata": {
        "id": "wGFq4N-JMNvR"
      }
    },
    {
      "cell_type": "code",
      "source": [
        "svr_reg = SVR()\n",
        "svr_reg.fit(X_train, y_train)\n",
        "y_pred = svr_reg.predict(X_test)\n",
        "print('SVR RMSE:', np.sqrt(mean_squared_error(y_test, y_pred)))\n",
        "print('SVR R2:', r2_score(y_test, y_pred))"
      ],
      "metadata": {
        "id": "7hMG3fYnMQSY",
        "outputId": "8f32c1a1-82d9-4686-ec11-1d2ce6d8e821",
        "colab": {
          "base_uri": "https://localhost:8080/"
        }
      },
      "execution_count": null,
      "outputs": [
        {
          "output_type": "stream",
          "name": "stdout",
          "text": [
            "SVR RMSE: 4969.291554713319\n",
            "SVR R2: -0.1225361924088364\n"
          ]
        }
      ]
    }
  ]
}